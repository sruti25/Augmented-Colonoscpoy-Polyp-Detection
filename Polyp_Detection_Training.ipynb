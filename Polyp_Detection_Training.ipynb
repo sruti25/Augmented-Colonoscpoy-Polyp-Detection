{
  "nbformat": 4,
  "nbformat_minor": 0,
  "metadata": {
    "colab": {
      "name": "Polyp Detection Training.ipynb",
      "provenance": [],
      "toc_visible": true
    },
    "kernelspec": {
      "name": "python3",
      "display_name": "Python 3"
    },
    "accelerator": "GPU"
  },
  "cells": [
    {
      "cell_type": "markdown",
      "metadata": {
        "id": "sg_mzWJXJkI7",
        "colab_type": "text"
      },
      "source": [
        "# Dataset"
      ]
    },
    {
      "cell_type": "markdown",
      "metadata": {
        "id": "MIoB9myrJo7X",
        "colab_type": "text"
      },
      "source": [
        "**Upload Dataset**"
      ]
    },
    {
      "cell_type": "code",
      "metadata": {
        "id": "Hso4ro9UpjbL",
        "colab_type": "code",
        "outputId": "0ac0e081-a75a-4ada-bd17-41885abe603d",
        "colab": {
          "base_uri": "https://localhost:8080/",
          "height": 85
        }
      },
      "source": [
        "!mkdir data\n",
        "%cd data\n",
        "!mkdir train validation\n",
        "%cd train\n",
        "!mkdir polyps non_polyps\n",
        "% cd ../validation\n",
        "!mkdir polyps non_polyps\n",
        "%cd /content"
      ],
      "execution_count": 1,
      "outputs": [
        {
          "output_type": "stream",
          "text": [
            "/content/data\n",
            "/content/data/train\n",
            "/content/data/validation\n",
            "/content\n"
          ],
          "name": "stdout"
        }
      ]
    },
    {
      "cell_type": "markdown",
      "metadata": {
        "id": "nlPX2mp6GX20",
        "colab_type": "text"
      },
      "source": [
        "Upload compressed data folder and extract that into *data* directory"
      ]
    },
    {
      "cell_type": "code",
      "metadata": {
        "id": "Un2wLvBOGhRi",
        "colab_type": "code",
        "colab": {}
      },
      "source": [
        "!unzip -qq data.zip -d /content/synthetic/"
      ],
      "execution_count": 0,
      "outputs": []
    },
    {
      "cell_type": "code",
      "metadata": {
        "id": "Girfd_r1qGZX",
        "colab_type": "code",
        "outputId": "5b89af9f-aa43-4dab-f146-fcb163a25efb",
        "colab": {
          "base_uri": "https://localhost:8080/",
          "height": 34
        }
      },
      "source": [
        "%cd /content\n",
        "!unzip -qq Archive.zip -d /content/Colonoscopy-polyps-detection-with-CNNs/synthetic/"
      ],
      "execution_count": 0,
      "outputs": [
        {
          "output_type": "stream",
          "text": [
            "/content\n"
          ],
          "name": "stdout"
        }
      ]
    },
    {
      "cell_type": "code",
      "metadata": {
        "id": "z4Rcbn5_sUFR",
        "colab_type": "code",
        "outputId": "49d6c1fe-ca99-431c-86aa-59b79eb68d89",
        "colab": {
          "base_uri": "https://localhost:8080/",
          "height": 34
        }
      },
      "source": [
        "%cd /content/Colonoscopy-polyps-detection-with-CNNs/"
      ],
      "execution_count": 0,
      "outputs": [
        {
          "output_type": "stream",
          "text": [
            "/content/Colonoscopy-polyps-detection-with-CNNs\n"
          ],
          "name": "stdout"
        }
      ]
    },
    {
      "cell_type": "markdown",
      "metadata": {
        "id": "n9SzCJowG8CW",
        "colab_type": "text"
      },
      "source": [
        "**Split polyps / non-polyps dataset**\n",
        "\n",
        "Use polyps and non_polyps from data/ to copy files into train and validation. We shall use a dataset split percentage such as 75% train and 25% test.\n",
        "\n",
        "We need os and shutil to manage the files, random to randomly split the dataset in train and validation subsets."
      ]
    },
    {
      "cell_type": "code",
      "metadata": {
        "id": "KAAVR6_-IxNW",
        "colab_type": "code",
        "colab": {}
      },
      "source": [
        "import os\n",
        "import random\n",
        "import shutil"
      ],
      "execution_count": 0,
      "outputs": []
    },
    {
      "cell_type": "code",
      "metadata": {
        "id": "DIvt7ehvn5Mp",
        "colab_type": "code",
        "colab": {}
      },
      "source": [
        "# Source dataset: from where to copy the files\n",
        "sourceFolderClass1 = 'data/polyps'\n",
        "sourceFolderClass2 = 'data/non_polyps'\n",
        "# Destination folders: splitted dataset in train and validation for polyps and non-polyps\n",
        "destFolderClass1_tr  = 'data/train/polyps'\n",
        "destFolderClass2_tr  = 'data/train/non_polyps'\n",
        "destFolderClass1_val = 'data/validation/polyps'\n",
        "destFolderClass2_val = 'data/validation/non_polyps'"
      ],
      "execution_count": 0,
      "outputs": []
    },
    {
      "cell_type": "code",
      "metadata": {
        "colab_type": "code",
        "outputId": "1510887e-1265-4f63-a7cf-33a246fd94d8",
        "id": "dx3FxFG9oEDm",
        "colab": {
          "base_uri": "https://localhost:8080/",
          "height": 51
        }
      },
      "source": [
        "sourceFiles1 = os.listdir(sourceFolderClass1)\n",
        "sourceFiles2 = os.listdir(sourceFolderClass2)\n",
        "print(\"Class 1 - polyps:\", len(sourceFiles1))\n",
        "print(\"Class 2 - non-polyps:\", len(sourceFiles2))"
      ],
      "execution_count": 0,
      "outputs": [
        {
          "output_type": "stream",
          "text": [
            "Class 1 - polyps: 1449\n",
            "Class 2 - non-polyps: 1690\n"
          ],
          "name": "stdout"
        }
      ]
    },
    {
      "cell_type": "code",
      "metadata": {
        "id": "750yAs6KFe79",
        "colab_type": "code",
        "outputId": "a8d223e5-92fe-48be-8da2-5f8bea9c195d",
        "colab": {
          "base_uri": "https://localhost:8080/",
          "height": 51
        }
      },
      "source": [
        "number_files = (min(len(sourceFiles1), len(sourceFiles2)) // 64) * 64\n",
        "for file in sourceFiles1[number_files:]:\n",
        "  os.remove(sourceFolderClass1+'/'+file)\n",
        "  \n",
        "for file in sourceFiles2[number_files:]:\n",
        "  os.remove(sourceFolderClass2+'/'+file)\n",
        "  \n",
        "sourceFiles1 = os.listdir(sourceFolderClass1)\n",
        "sourceFiles2 = os.listdir(sourceFolderClass2)\n",
        "  \n",
        "print(\"Class 1 - polyps:\", len(sourceFiles1))\n",
        "print(\"Class 2 - non-polyps:\", len(sourceFiles2))"
      ],
      "execution_count": 0,
      "outputs": [
        {
          "output_type": "stream",
          "text": [
            "Class 1 - polyps: 1408\n",
            "Class 2 - non-polyps: 1408\n"
          ],
          "name": "stdout"
        }
      ]
    },
    {
      "cell_type": "markdown",
      "metadata": {
        "colab_type": "text",
        "id": "xw_p_egeoEDw"
      },
      "source": [
        "Let's suffle the list with the source files using a random seed:"
      ]
    },
    {
      "cell_type": "code",
      "metadata": {
        "colab_type": "code",
        "id": "gQH2N4kfoEDx",
        "colab": {}
      },
      "source": [
        "random.seed(1)\n",
        "random.shuffle(sourceFiles1)\n",
        "random.shuffle(sourceFiles2)"
      ],
      "execution_count": 0,
      "outputs": []
    },
    {
      "cell_type": "markdown",
      "metadata": {
        "colab_type": "text",
        "id": "3xf1zPTqoED1"
      },
      "source": [
        "We shall define a number of files to copy in the `validation` subfolder for each class. If you want a different split, you should modify `val_files`."
      ]
    },
    {
      "cell_type": "code",
      "metadata": {
        "colab_type": "code",
        "outputId": "29fc1aa2-e5c6-4aa3-8434-d0996a89bd24",
        "id": "Wz8xlL-zoED2",
        "colab": {
          "base_uri": "https://localhost:8080/",
          "height": 51
        }
      },
      "source": [
        "# No of file to copy in VALIDATION folder for each class\n",
        "val_files = 128\n",
        "\n",
        "# Copy the first 151 files for polyps and non-polyps into validation folders\n",
        "print('--> Validation split ...')\n",
        "for i in range(val_files):\n",
        "    # copy validation polyps\n",
        "    File1 = os.path.join(sourceFolderClass1,sourceFiles1[i])\n",
        "    File2 = os.path.join(destFolderClass1_val,  sourceFiles1[i])\n",
        "    shutil.copy(File1,File2)\n",
        "    # copy validation non-polyps\n",
        "    File1 = os.path.join(sourceFolderClass2, sourceFiles2[i])\n",
        "    File2 = os.path.join(destFolderClass2_val,   sourceFiles2[i])\n",
        "    shutil.copy(File1, File2)\n",
        "\n",
        "print('--> Done!')"
      ],
      "execution_count": 0,
      "outputs": [
        {
          "output_type": "stream",
          "text": [
            "--> Validation split ...\n",
            "--> Done!\n"
          ],
          "name": "stdout"
        }
      ]
    },
    {
      "cell_type": "code",
      "metadata": {
        "colab_type": "code",
        "outputId": "efbb41f2-4317-4ff4-8313-12b9a2753d27",
        "id": "z4crS_69oED6",
        "colab": {
          "base_uri": "https://localhost:8080/",
          "height": 51
        }
      },
      "source": [
        "# Copy polyps to train\n",
        "print('--> Train split ...')\n",
        "for i in range(val_files,len(sourceFiles1)):\n",
        "    if sourceFiles1[i].startswith('.'):\n",
        "      continue\n",
        "    File1 = os.path.join(sourceFolderClass1,  sourceFiles1[i])\n",
        "    File2 = os.path.join(destFolderClass1_tr, sourceFiles1[i])\n",
        "    shutil.copy(File1,File2)\n",
        "# copy non-polyps to train\n",
        "for i in range(val_files,len(sourceFiles2)):\n",
        "    if sourceFiles2[i].startswith('.'):\n",
        "      continue\n",
        "    File1 = os.path.join(sourceFolderClass2,  sourceFiles2[i])\n",
        "    File2 = os.path.join(destFolderClass2_tr, sourceFiles2[i])\n",
        "    shutil.copy(File1, File2)\n",
        "\n",
        "print('--> Done!')"
      ],
      "execution_count": 0,
      "outputs": [
        {
          "output_type": "stream",
          "text": [
            "--> Train split ...\n",
            "--> Done!\n"
          ],
          "name": "stdout"
        }
      ]
    },
    {
      "cell_type": "markdown",
      "metadata": {
        "colab_type": "text",
        "id": "qR1CFzPgoED8"
      },
      "source": [
        "Now we have a splitted dataset into train and validation subfolder with each class inside:\n",
        "* **1212** images in the entire dataset;\n",
        "* **910** images for training: 455 polyps + 455 non-polyps;\n",
        "* **302** images for validation: 151 polyps + 151 non-polyps.\n",
        "\n",
        "Let's check the composition of the subsets for the future classification:"
      ]
    },
    {
      "cell_type": "code",
      "metadata": {
        "colab_type": "code",
        "outputId": "afe4cc08-3b46-48d8-eb1c-4abd7fe41072",
        "id": "2mxpHKzHoED9",
        "colab": {
          "base_uri": "https://localhost:8080/",
          "height": 102
        }
      },
      "source": [
        "print('--> Dataset: data_polyps')\n",
        "print('> Train - polyps:', len(os.listdir(destFolderClass1_tr)))\n",
        "print('> Train - non-polyps:', len(os.listdir(destFolderClass2_tr)))\n",
        "print('> Validation - polyps:', len(os.listdir(destFolderClass1_val)))\n",
        "print('> Validation - non-polyps:', len(os.listdir(destFolderClass2_val)))"
      ],
      "execution_count": 0,
      "outputs": [
        {
          "output_type": "stream",
          "text": [
            "--> Dataset: data_polyps\n",
            "> Train - polyps: 1280\n",
            "> Train - non-polyps: 1280\n",
            "> Validation - polyps: 128\n",
            "> Validation - non-polyps: 128\n"
          ],
          "name": "stdout"
        }
      ]
    },
    {
      "cell_type": "markdown",
      "metadata": {
        "id": "9vsxQIVzJuZP",
        "colab_type": "text"
      },
      "source": [
        "# Training"
      ]
    },
    {
      "cell_type": "code",
      "metadata": {
        "id": "XohIcSNcIn8K",
        "colab_type": "code",
        "colab": {}
      },
      "source": [
        "import keras\n",
        "from keras import optimizers\n",
        "from keras.preprocessing.image import ImageDataGenerator\n",
        "from keras.models import Sequential\n",
        "from keras.layers import Conv2D, MaxPooling2D\n",
        "from keras.layers import Activation, Dropout, Flatten, Dense\n",
        "from keras.layers.normalization import BatchNormalization\n",
        "from keras import backend as K\n",
        "import numpy as np\n",
        "from matplotlib import pyplot as plt\n",
        "from IPython.display import clear_output\n",
        "\n",
        "from sklearn.metrics import roc_auc_score\n",
        "from numpy.random import seed\n",
        "from tensorflow import set_random_seed\n",
        "\n",
        "import time, os\n",
        "from __future__ import with_statement\n",
        "\n",
        "%matplotlib inline"
      ],
      "execution_count": 0,
      "outputs": []
    },
    {
      "cell_type": "markdown",
      "metadata": {
        "id": "rQLRFPXtIpd0",
        "colab_type": "text"
      },
      "source": [
        "This is a function that will help you to visualize the training and validation accuracy during the training inside the browser (source: live_loss_plot_keras.ipynb).\n",
        "\n",
        "Note: if you want to run the training script not inside the notebook, you need to remove this function call from your traning! If not, after each epoch you will need to manually close the new plot!"
      ]
    },
    {
      "cell_type": "code",
      "metadata": {
        "id": "5P5drOHcIqp1",
        "colab_type": "code",
        "colab": {}
      },
      "source": [
        "class PlotLosses(keras.callbacks.Callback):\n",
        "    # Show the live training and validation loss during the training\n",
        "    def on_train_begin(self, logs={}):\n",
        "        self.i = 0\n",
        "        self.x = []\n",
        "        self.acc = []\n",
        "        self.val_acc = []\n",
        "        self.fig = plt.figure()\n",
        "        self.logs = []\n",
        "\n",
        "    def on_epoch_end(self, epoch, logs={}):\n",
        "        self.logs.append(logs)\n",
        "        self.x.append(self.i)\n",
        "        self.acc.append(logs.get('acc'))\n",
        "        self.val_acc.append(logs.get('val_acc'))\n",
        "        self.i += 1\n",
        "        clear_output(wait=True)\n",
        "        plt.plot(self.x, self.acc, label=\"ACC_Train\")\n",
        "        plt.plot(self.x, self.val_acc, label=\"ACC_Val\")\n",
        "        plt.legend(bbox_to_anchor=(0., 1.02, 1., .102), loc=3,\n",
        "                   ncol=2, mode=\"expand\", borderaxespad=0.)\n",
        "        plt.grid()\n",
        "        # plt.ylim(0.0, 1.0) # limited Y values to 1.0!\n",
        "        plt.show()\n",
        "\n",
        "plot_losses = PlotLosses() # initialize the class"
      ],
      "execution_count": 0,
      "outputs": []
    },
    {
      "cell_type": "markdown",
      "metadata": {
        "id": "UzQY7L3EI95J",
        "colab_type": "text"
      },
      "source": [
        "Define several constants:\n",
        "\n",
        "dimensions for our images to be used in the models\n",
        "\n",
        "folders for train and validation subsets\n",
        "\n",
        "number of train and validation samples"
      ]
    },
    {
      "cell_type": "code",
      "metadata": {
        "id": "zlBRJkJ9stLs",
        "colab_type": "code",
        "colab": {}
      },
      "source": [
        "# Dimensions of our images.\n",
        "img_width, img_height = 256, 256\n",
        "\n",
        "# Train & validation folders\n",
        "train_data_dir      = 'data/train'\n",
        "validation_data_dir = 'data/validation'\n",
        "\n",
        "# Folder to save the models\n",
        "modelFolder = '/content'\n",
        "\n",
        "# Train parameters\n",
        "nb_train_samples      = 2560\n",
        "nb_validation_samples = 256"
      ],
      "execution_count": 0,
      "outputs": []
    },
    {
      "cell_type": "markdown",
      "metadata": {
        "id": "sxXdVeZiIHGl",
        "colab_type": "text"
      },
      "source": [
        "Change the order of the dimensions and channel depending on the input image: (channels, width, height) or (width, height, channels). We are using 3 channels for this study (RGB)."
      ]
    },
    {
      "cell_type": "code",
      "metadata": {
        "id": "w609nR-WIIWu",
        "colab_type": "code",
        "colab": {}
      },
      "source": [
        "if K.image_data_format() == 'channels_first':\n",
        "    input_shape = (3, img_width, img_height)\n",
        "else:\n",
        "    input_shape = (img_width, img_height, 3)"
      ],
      "execution_count": 0,
      "outputs": []
    },
    {
      "cell_type": "code",
      "metadata": {
        "id": "Kt5Q2ENiIXvI",
        "colab_type": "code",
        "colab": {}
      },
      "source": [
        "def CNN_3Conv_1FCv2(convs, dims, epochs, batch_size, drop_rate, input_shape):\n",
        "    # CNN with 3 Conv + 1 FC\n",
        "    # convs = no of filters\n",
        "    # dims = dimension of convolution dims x dims\n",
        "    # epochs = training epochs\n",
        "    # batch_size = training batch size\n",
        "    # drop_rate = drop rate (0, 1.0) <---- added\n",
        "    # input_shape = shape of the inputs\n",
        "    \n",
        "    # for reproductibility\n",
        "    seed(1)            # numpy seed\n",
        "    set_random_seed(2) # tensorflow seed\n",
        "    \n",
        "    # Start the computational graph for our CNN\n",
        "    model = Sequential()\n",
        "    \n",
        "    # Conv 1 filters\n",
        "    model.add(Conv2D(convs, (dims, dims), input_shape=input_shape))\n",
        "    model.add(Activation('relu'))\n",
        "    model.add(MaxPooling2D(pool_size=(2, 2)))\n",
        "    \n",
        "    # Conv 2 filters\n",
        "    model.add(Conv2D(convs, (dims, dims), input_shape=input_shape))\n",
        "    model.add(Activation('relu'))\n",
        "    model.add(MaxPooling2D(pool_size=(2, 2)))\n",
        "    \n",
        "    # Conv 3 filters\n",
        "    model.add(Conv2D(convs*2, (dims, dims))) # second Conv has 2x filters!\n",
        "    model.add(Activation('relu'))\n",
        "    model.add(MaxPooling2D(pool_size=(2, 2)))\n",
        "\n",
        "    # Convert convolution to a fully connected layer\n",
        "    model.add(Flatten())\n",
        "    model.add(Dense(convs*2)) # FC has 2x neurons!\n",
        "    model.add(Activation('relu'))\n",
        "    model.add(Dropout(drop_rate))\n",
        "    model.add(Dense(1))\n",
        "    model.add(Activation('sigmoid'))\n",
        "    \n",
        "    # Compile the model\n",
        "    model.compile(loss='binary_crossentropy',\n",
        "                  optimizer='adam',\n",
        "                  metrics=['accuracy'])\n",
        "\n",
        "    # Aaugmentation configuration for training set\n",
        "    train_datagen = ImageDataGenerator(\n",
        "        rescale=1. / 255,\n",
        "        shear_range=0.2,\n",
        "        zoom_range =0.2,\n",
        "        horizontal_flip=True,\n",
        "        vertical_flip=True,\n",
        "        rotation_range=90)\n",
        "\n",
        "    # Augmentation configuration for testing set: only rescaling!\n",
        "    test_datagen = ImageDataGenerator(rescale=1. / 255)\n",
        "    \n",
        "    train_generator = train_datagen.flow_from_directory(\n",
        "        train_data_dir,\n",
        "        target_size=(img_width, img_height),\n",
        "        batch_size=batch_size,\n",
        "        class_mode='binary')\n",
        "\n",
        "    validation_generator = test_datagen.flow_from_directory(\n",
        "        validation_data_dir,\n",
        "        target_size=(img_width, img_height),\n",
        "        batch_size=batch_size,\n",
        "        class_mode='binary')\n",
        "\n",
        "    model.fit_generator(\n",
        "        train_generator,\n",
        "        steps_per_epoch=nb_train_samples // batch_size,\n",
        "        epochs=epochs,\n",
        "        validation_data=validation_generator,\n",
        "        validation_steps=nb_validation_samples // batch_size,\n",
        "        callbacks=[plot_losses], # using the plotting function for train and validation loss\n",
        "        verbose=0)\n",
        "\n",
        "    # Evaluate final test loss and accuracy scores\n",
        "    score_val = model.evaluate_generator(validation_generator, nb_validation_samples//batch_size, workers=7)\n",
        "    score_tr  = model.evaluate_generator(train_generator, nb_train_samples//batch_size, workers=7)\n",
        "    print('Train loss    :', score_tr[0])\n",
        "    print('Train accuracy:', score_tr[1])\n",
        "    print('Validation loss    :', score_val[0])\n",
        "    print('Validation accuracy:', score_val[1])\n",
        "    \n",
        "    return model # return the model!"
      ],
      "execution_count": 0,
      "outputs": []
    },
    {
      "cell_type": "code",
      "metadata": {
        "id": "0MqKuY7Vs6oK",
        "colab_type": "code",
        "outputId": "82f26848-f814-4d6a-d2c6-6b19227a2367",
        "colab": {
          "base_uri": "https://localhost:8080/",
          "height": 1000
        }
      },
      "source": [
        "print('--> Training best model for Small CNNs: Conv-Conv-Conv-FC ...')\n",
        "model = CNN_3Conv_1FCv2(convs=64, dims=3, epochs=200, batch_size=64,\n",
        "                        drop_rate=0.9, input_shape= input_shape)\n",
        "print(model.summary())\n",
        "\n",
        "# # Save the weights and the full model\n",
        "print('---> Save model ...')\n",
        "model.save_weights('/content/model_combined_asu.h5')\n",
        "model.save('/content/model_combined_asu.h5')\n",
        "print('Done!')"
      ],
      "execution_count": 0,
      "outputs": [
        {
          "output_type": "display_data",
          "data": {
            "image/png": "[encoded data removed]",
            "text/plain": [
              "<Figure size 432x288 with 1 Axes>"
            ]
          },
          "metadata": {
            "tags": []
          }
        },
        {
          "output_type": "stream",
          "text": [
            "Train loss    : 0.15105308759957553\n",
            "Train accuracy: 0.9421875\n",
            "Validation loss    : 0.18210723996162415\n",
            "Validation accuracy: 0.9375\n",
            "Model: \"sequential_1\"\n",
            "_________________________________________________________________\n",
            "Layer (type)                 Output Shape              Param #   \n",
            "=================================================================\n",
            "conv2d_1 (Conv2D)            (None, 254, 254, 64)      1792      \n",
            "_________________________________________________________________\n",
            "activation_1 (Activation)    (None, 254, 254, 64)      0         \n",
            "_________________________________________________________________\n",
            "max_pooling2d_1 (MaxPooling2 (None, 127, 127, 64)      0         \n",
            "_________________________________________________________________\n",
            "conv2d_2 (Conv2D)            (None, 125, 125, 64)      36928     \n",
            "_________________________________________________________________\n",
            "activation_2 (Activation)    (None, 125, 125, 64)      0         \n",
            "_________________________________________________________________\n",
            "max_pooling2d_2 (MaxPooling2 (None, 62, 62, 64)        0         \n",
            "_________________________________________________________________\n",
            "conv2d_3 (Conv2D)            (None, 60, 60, 128)       73856     \n",
            "_________________________________________________________________\n",
            "activation_3 (Activation)    (None, 60, 60, 128)       0         \n",
            "_________________________________________________________________\n",
            "max_pooling2d_3 (MaxPooling2 (None, 30, 30, 128)       0         \n",
            "_________________________________________________________________\n",
            "flatten_1 (Flatten)          (None, 115200)            0         \n",
            "_________________________________________________________________\n",
            "dense_1 (Dense)              (None, 128)               14745728  \n",
            "_________________________________________________________________\n",
            "activation_4 (Activation)    (None, 128)               0         \n",
            "_________________________________________________________________\n",
            "dropout_1 (Dropout)          (None, 128)               0         \n",
            "_________________________________________________________________\n",
            "dense_2 (Dense)              (None, 1)                 129       \n",
            "_________________________________________________________________\n",
            "activation_5 (Activation)    (None, 1)                 0         \n",
            "=================================================================\n",
            "Total params: 14,858,433\n",
            "Trainable params: 14,858,433\n",
            "Non-trainable params: 0\n",
            "_________________________________________________________________\n",
            "None\n",
            "---> Save model ...\n",
            "Done!\n"
          ],
          "name": "stdout"
        }
      ]
    },
    {
      "cell_type": "code",
      "metadata": {
        "id": "errcqxn0XZg4",
        "colab_type": "code",
        "colab": {}
      },
      "source": [
        "from google.colab import drive\n",
        "drive.mount('/content/drive')"
      ],
      "execution_count": 0,
      "outputs": []
    },
    {
      "cell_type": "code",
      "metadata": {
        "id": "3cAa7zeO-ZO3",
        "colab_type": "code",
        "outputId": "91683eae-d4d8-4eb8-80c5-4314336aae26",
        "colab": {
          "base_uri": "https://localhost:8080/",
          "height": 34
        }
      },
      "source": [
        "%cd /content"
      ],
      "execution_count": 0,
      "outputs": [
        {
          "output_type": "stream",
          "text": [
            "/content\n"
          ],
          "name": "stdout"
        }
      ]
    },
    {
      "cell_type": "code",
      "metadata": {
        "id": "CJGGKuq0-ey1",
        "colab_type": "code",
        "colab": {}
      },
      "source": [
        "!rm -rf .DS_Store"
      ],
      "execution_count": 0,
      "outputs": []
    }
  ]
}