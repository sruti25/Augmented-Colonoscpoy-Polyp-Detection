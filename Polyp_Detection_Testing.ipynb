{
  "nbformat": 4,
  "nbformat_minor": 0,
  "metadata": {
    "colab": {
      "name": "Polyp Detection Testing.ipynb",
      "provenance": [],
      "collapsed_sections": [],
      "toc_visible": true
    },
    "kernelspec": {
      "name": "python3",
      "display_name": "Python 3"
    }
  },
  "cells": [
    {
      "cell_type": "code",
      "metadata": {
        "id": "14eeUhdZFSGX",
        "colab_type": "code",
        "colab": {}
      },
      "source": [
        "!mkdir data"
      ],
      "execution_count": 0,
      "outputs": []
    },
    {
      "cell_type": "code",
      "metadata": {
        "id": "ZFIS7FpLOzoc",
        "colab_type": "code",
        "colab": {}
      },
      "source": [
        "!unzip -qq test_data.zip -d /content/data"
      ],
      "execution_count": 0,
      "outputs": []
    },
    {
      "cell_type": "code",
      "metadata": {
        "id": "tiugPUenQzPu",
        "colab_type": "code",
        "colab": {}
      },
      "source": [
        "import os\n",
        "import random\n",
        "from keras import *\n",
        "from keras.models import *\n",
        "import skimage.io\n",
        "from keras.preprocessing.image import ImageDataGenerator\n",
        "from skimage.transform import rescale, resize"
      ],
      "execution_count": 0,
      "outputs": []
    },
    {
      "cell_type": "code",
      "metadata": {
        "id": "5iezrtxUPf9O",
        "colab_type": "code",
        "colab": {}
      },
      "source": [
        "polyp_dir = '/content/data/polyps/'\n",
        "non_polyp_dir = '/content/data/non_polyps/'\n",
        "polyp_files = os.listdir(polyp_dir)\n",
        "non_polyp_files = os.listdir(non_polyp_dir)\n"
      ],
      "execution_count": 0,
      "outputs": []
    },
    {
      "cell_type": "code",
      "metadata": {
        "id": "wRXdTQwESmAW",
        "colab_type": "code",
        "colab": {}
      },
      "source": [
        "#Keeping files equal to the batch size = 64\n",
        "number_files = (min(len(sourceFiles1), len(sourceFiles2)) // 64) * 64\n",
        "for file in polyp_files[number_files:]:\n",
        "  os.remove(polyp_dir+file)\n",
        "for file in non_polyp_files[number_files:]:\n",
        "  os.remove(non_polyp_dir+file)\n",
        "  \n",
        "polyp_files = os.listdir(polyp_dir)\n",
        "non_polyp_files = os.listdir(non_polyp_dir)"
      ],
      "execution_count": 0,
      "outputs": []
    },
    {
      "cell_type": "code",
      "metadata": {
        "id": "kkXuIZyhhq5q",
        "colab_type": "code",
        "colab": {}
      },
      "source": [
        "print (len(polyp_files))\n",
        "print (len(non_polyp_files))"
      ],
      "execution_count": 0,
      "outputs": []
    },
    {
      "cell_type": "markdown",
      "metadata": {
        "id": "vUVy7rHmO4kr",
        "colab_type": "text"
      },
      "source": [
        "**Load trained model to test performance**"
      ]
    },
    {
      "cell_type": "code",
      "metadata": {
        "id": "luAdr4V_O8B-",
        "colab_type": "code",
        "colab": {}
      },
      "source": [
        "model = load_model('model_combined_asu.h5)"
      ],
      "execution_count": 0,
      "outputs": []
    },
    {
      "cell_type": "code",
      "metadata": {
        "id": "B5phOSxAKumy",
        "colab_type": "code",
        "colab": {}
      },
      "source": [
        "polyp_count = 0\n",
        "for i in range(len(polyp_files)):\n",
        "  if polyp_files[i] == '.DS_Store':\n",
        "    continue\n",
        "  file1 = os.path.join('/content/data/polyps/',polyp_files[i])\n",
        "  print('--> Searching for a colonoscopy polyp ...', file1)\n",
        "  img = skimage.io.imread(file1)\n",
        "  img = img * 1./255\n",
        "  img = img.reshape((1, img.shape[0], img.shape[1], img.shape[2]))\n",
        "  preds = model2.predict(img, batch_size=None, verbose=0)\n",
        "  if preds > 0.5:\n",
        "    polyp_count += 1"
      ],
      "execution_count": 0,
      "outputs": []
    },
    {
      "cell_type": "code",
      "metadata": {
        "id": "ESG2EaIOLO2f",
        "colab_type": "code",
        "colab": {}
      },
      "source": [
        "non_polyp_count = 0\n",
        "for i in range(len(non_polyp_files)):\n",
        "  if polyp_files[i] == '.DS_Store':\n",
        "    continue\n",
        "  file1 = os.path.join('/content/data/non_polyps/',polyp_files[i])\n",
        "  print('--> Searching for a colonoscopy polyp ...', file1)\n",
        "  img = skimage.io.imread(file1)\n",
        "  img = img * 1./255\n",
        "  img = img.reshape((1, img.shape[0], img.shape[1], img.shape[2]))\n",
        "  preds = model2.predict(img, batch_size=None, verbose=0)\n",
        "  if preds <= 0.5:\n",
        "    non_polyp_count += 1"
      ],
      "execution_count": 0,
      "outputs": []
    },
    {
      "cell_type": "markdown",
      "metadata": {
        "id": "zJfkXvqjMuDv",
        "colab_type": "text"
      },
      "source": [
        "Metrics for evaluating model performance"
      ]
    },
    {
      "cell_type": "code",
      "metadata": {
        "id": "EdUex_C6LZ0i",
        "colab_type": "code",
        "colab": {}
      },
      "source": [
        "tp, tn = polyp_count, non_polyp_count\n",
        "fp, fn = len(non_polyp_files) - non_polyp_count, len(polyp_files) - polyp_count\n",
        "print (\"True Positive = \", tp)\n",
        "print (\"True Negative = \", tn)\n",
        "print (\"False Positive = \", fp)\n",
        "print (\"False Negative = \", fn)\n",
        "recall = tp / (tp + fn)\n",
        "print (\"Recall = \", recall)\n",
        "precision = tp/(tp + fp)\n",
        "print (\"Precision = \", precision)\n",
        "print (\"Specificity = \", tn/ (tn + fp))\n",
        "print (\"Accuracy = \", (tp + tn)/ (tp + tn + fp + fn))\n",
        "print (\"F1 - Score = \", 2 * recall * precision / (recall + precision))"
      ],
      "execution_count": 0,
      "outputs": []
    },
    {
      "cell_type": "code",
      "metadata": {
        "id": "eyaTBmtMgYbW",
        "colab_type": "code",
        "colab": {}
      },
      "source": [
        "# test_data_dir = '/content/data/'\n",
        "# batch_size = 64\n",
        "# nb_test_samples = 320\n",
        "# test_datagen = ImageDataGenerator(rescale=1. / 255)\n",
        "# test_generator = test_datagen.flow_from_directory(\n",
        "#         test_data_dir,\n",
        "#         target_size=(256, 256),\n",
        "#         batch_size=batch_size,\n",
        "#         class_mode='binary')\n",
        "\n",
        "# score_test = model.evaluate_generator(test_generator, nb_test_samples//batch_size, workers=7)\n",
        "# print('Test loss    :', score_test[0])\n",
        "# print('Test accuracy:', score_test[1])\n",
        "# print (model.metrics_names)"
      ],
      "execution_count": 0,
      "outputs": []
    }
  ]
}